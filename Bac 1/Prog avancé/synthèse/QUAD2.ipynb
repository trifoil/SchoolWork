{
 "cells": [
  {
   "attachments": {},
   "cell_type": "markdown",
   "metadata": {},
   "source": [
    "# Prog De Base QUAD2\n",
    "\n",
    "## Table des matières : \n",
    "\n",
    "1. [Introduction](#Introduction)\n",
    "2. [Un paradigme différent](#Un-paradigme-différent) :\n",
    "3. [Les classes et leurs objets](#Les-classes-et-leurs-objets)\n",
    "    1. [C'est quoi une classe ?](#C'est-quoi-une-classe-?)\n",
    "    2. [C'est quoi un objet ?](#C'est-quoi-un-objet-?)\n",
    "    3. [Les méthodes et attributs](#Les-méthodes-et-attributs)\n",
    "    4. [C'est quoi le constructeur ?](#C'est-quoi-le-constructeur-?)\n",
    "    5. [Le mot magique self](#Le-mot-magique-self)\n",
    "    6. [Un joli example](#Un-Joli-exemple)\n",
    "4. [Les décorateurs](Les-décorateurs)\n",
    "5. [Les methodes particulières](Les-methodes-particulières)\n",
    "6. [L'encapsulation](#L'encapsulation)\n",
    "    1. [Les setters et getters](#Les-setters-et-getters)\n",
    "7. [L'héritage](#L'héritage)\n",
    "    1. [Le mot magique super](#Le-mot-magique-super)\n",
    "    2. [L'héritage \"Simple\"](#L'héritage-\"Simple\")\n",
    "    3. [L'héritage \"Multiple\"](#L'héritage-\"Multiple\")\n",
    "    4. [Override VS Overload](#Override-VS-Overload)\n",
    "    5. [Les classes abstraites et les interfaces](#Les-classes-abstraites-et-les-interfaces)\n",
    "8. [Un mot sur l'UML](#Un-mot-sur-l'UML)\n",
    "9. [Pourquoi Python en OOP](#Pourquoi-Python-en-OOP)\n",
    "10. [Conclusion](#Conclusion)\n"
   ]
  },
  {
   "attachments": {},
   "cell_type": "markdown",
   "metadata": {},
   "source": [
    "## Introduction\n",
    "\n",
    "\n",
    "On reprend les mêmes et on recommence!\n",
    "\n",
    "\n",
    "Ce notebook étant la suite logique du précédent, nous partons du postulat que toutes les notions du premier Quadrimestre ont été assimilées. Si ce n'est pas le cas, je vous invite à vous référer au premier notebook.\n",
    "\n",
    "\n",
    "Ce notebook est consacré à la programmation orientée objet ou OOP (Object Oriented Programming).\n",
    "\n",
    "\n",
    "Le disclaimer du premier notebook est toujours d'application le voilà donc de nouveau:\n",
    "\n",
    "\n",
    "L'auteur & ces gentils relecteurs étant des êtres humains (Choquant je sais) des petites erreurs peuvent se glisser dans cette pseudo-synthèse. Si vous en trouvez merci de me le signaler. Il est également possible que ce résume ne soit pas complet. Si vous avez des remarques ou des suggestions n'hésitez pas à me les faire parvenir.\n",
    "\n",
    "\n",
    "Sans plus attendre commençons!"
   ]
  },
  {
   "attachments": {},
   "cell_type": "markdown",
   "metadata": {},
   "source": [
    "## Un paradigme différent\n",
    "\n",
    "Je vous entend déja dire \"Mais c'est quoi ce mot <span style=\"font-style:italic;color:crimson\">barbare</span> ?\".\n",
    "\n",
    "\"Paradigme\" est un mot qui peut faire peur. Mais ne vous inquiétez pas, c'est pas si compliqué que ça zn a l'air. \n",
    "\n",
    "C'est un mot qu'on pourais traduire simplement en \"vision\".\n",
    "\n",
    "Je parle ici de la \"vision\" que vous avez de la programmation et de votre mode de réflexion lors de la résolution d'un problème.\n",
    "\n",
    "Certains problèmes sont plus facile à résoudre de façon procédurale tandis que d'autres s'adapte mieux à l'orienté objets.\n",
    "\n",
    "Bien d'autre paradigmes existent..."
   ]
  },
  {
   "attachments": {},
   "cell_type": "markdown",
   "metadata": {},
   "source": [
    "## Les classes et leurs objets"
   ]
  },
  {
   "attachments": {},
   "cell_type": "markdown",
   "metadata": {},
   "source": [
    "### C'est quoi une classe ?\n",
    "\n",
    "Sans faire dans le jargon technique. Nous pouvons comparer une classe à un plan de construction.\n",
    "\n",
    "Mais pour construire quoi ?\n",
    "\n",
    "Et bien tout simplement un objet. Qui est une instance de cette classe. "
   ]
  },
  {
   "attachments": {},
   "cell_type": "markdown",
   "metadata": {},
   "source": [
    "### C'est quoi un objet ?\n",
    "\n",
    "En Informatique un dicton dit que tout est objet. Et c'est vrai. Nous pouvons même l'étendre au monde réel. Pour un Dévloppeur tout est un objet. Car tout possèdent différents attributs et méthodes.\n",
    "\n",
    "\n",
    "Hommes, Femmes, Voitures, Chaises, Ornithorynque, Hélicoptère de combat Apache, etc...\n",
    "\n",
    "\n",
    "Un objet est une instance d'une classe. Il est construit à partir d'une classe (selon le modèle de la classe).\n",
    "Mais Comment-est-il construit ? Grâce à son constructeur!"
   ]
  },
  {
   "attachments": {},
   "cell_type": "markdown",
   "metadata": {},
   "source": [
    "### Les Méthodes et Attributs\n",
    "\n",
    "Il existe deux types d'éléments dans une classe. Les attributs et les méthodes.\n",
    "\n",
    "Ceux-ci peuvent avoir deux scopes différents :\n",
    "\n",
    "- Soit ils sont déclarés dans la classe elle-même. Dans ce cas ils sont appelés attributs et méthodes de classe.\n",
    "\n",
    "- Soit ils sont déclarés dans le constructeur. Dans ce cas ils sont appelés attributs et méthodes d'instance.\n",
    "\n",
    "Pour faire simple. \n",
    "\n",
    "Les attributs et méthodes de classe sont les mêmes pour toutes les instances de la classe. Dans le cas spécifique des méthodes de classe, en Python, elles sont déclarées à l'aide du décorateur @classmethod. Il est possible de les appeler sans avoir besoin d'instancier la classe. C'est à dire sans avoir besoin de créer un objet.\n",
    "\n",
    "Les attributs et méthodes d'instance sont spécifiques à chaque instance de la classe. Et ne sont donc pas partagés entre les différentes instances."
   ]
  },
  {
   "attachments": {},
   "cell_type": "markdown",
   "metadata": {},
   "source": [
    "### C'est quoi le constructeur ?\n",
    "\n",
    "Vous vous demandez probablement ce qu'est un constructeur. \n",
    "\n",
    "\n",
    "Et bien c'est la méthode (fonction) qui permet de construire un objet. C'est à dire de l'instancier.\n",
    "\n",
    "Dans un constructeur on peut initialiser des attributs et des méthodes que tout les objets construit à partir de cette classe auront."
   ]
  },
  {
   "attachments": {},
   "cell_type": "markdown",
   "metadata": {},
   "source": [
    "### Le mot magique **self**\n",
    "\n",
    "Avant de passer à l'exemple. Je vais vous parler d'un mot magique. Le mot magique **self**.\n",
    "\n",
    "En effet dans la plupart des languages supportant l'orienté objet. Le mot **self** est utilisé pour faire référence à l'objet courant. C'est à dire à l'objet qui est en train d'être construit.\n",
    "\n",
    "Si ça vous semble compliqué. Ne vous inquiétez pas. C'est un concept qui est très vite assimilé mais difficile à expliquer."
   ]
  },
  {
   "attachments": {},
   "cell_type": "markdown",
   "metadata": {},
   "source": [
    "### Un joli example\n",
    "\n",
    "Pour illustrer tout ça. Je vais vous montrer un exemple qui contient toutes les notions que nous avons vu jusqu'à présent. Cet exemple nous suivra tout au long de ce notebook. Alors je vous conseille d'au moins le lire. (Tout ce qui est raconté n'est bien sûr pas implémenté mais ça vous permettra de potentiellement approfondir les dis exemple.)\n",
    "\n",
    "Voici son énoncé :\n",
    "\n",
    "Après votre malheureuse rencontre avec Truck-Kun, semi-remorque de 24 Tonnes connu de tous.\n",
    "\n",
    "Vous êtes mort, Le dieu prenant en charge votre dossier, attristé par votre situation, vous offre une seconde chance. Cependant à la condition que vous l'aidiez à concevoir le monde où vous vous réincarnerez.\n",
    "\n",
    "Etant appranti <span style=\"text-decoration: line-through\">magicien</span> <span style=\"font-style:italic\">tousse</span> dévloppeur, vous décidez d'accepter !\n",
    "\n",
    "Réellement attristé par votre situation, il vous propose de peupler le monde alors qu'il s'occupe de créer un joli paysage.\n",
    "\n",
    "Sachant que vous souhaitez changer d'air, vous commencez par créer une classe déffinisant les humanoïdes de ce monde fantaisique.\n"
   ]
  },
  {
   "cell_type": "code",
   "execution_count": 1,
   "metadata": {},
   "outputs": [
    {
     "name": "stdout",
     "output_type": "stream",
     "text": [
      "0\n",
      "Je m'appelle Blair et je suis une neko\n",
      "2\n"
     ]
    }
   ],
   "source": [
    "class humanoid():\n",
    "    NumberOfEntities = 0\n",
    "    possibleBreed = [\"human\", \"elves\", \"neko\"]\n",
    "    def __init__(self,name=\"Jane\", breed=\"human\", age=\"18\", magicAbility=20, height=155, weight=42):\n",
    "        self.name = name\n",
    "        if breed.lower() in humanoid.possibleBreed: #Permet de vérifier la propriété avant de l'appliquer\n",
    "            self.breed = breed.lower()\n",
    "        else:\n",
    "            print(\"Breed not found\")\n",
    "            self.breed = \"human\"\n",
    "        self.age = age #en années\n",
    "        self.magicAbility = magicAbility #en %\n",
    "        self.height = height #en cm\n",
    "        self.weight = weight #en kg\n",
    "        humanoid.NumberOfEntities += 1 #Permet de compter le nombre d'entité\n",
    "    \n",
    "    def parlerDeSoi(self):\n",
    "        print(\"Je m'appelle \" + self.name + \" et je suis une \" + self.breed) #Une variante en fonction du masculin et féminin serait mieux mais passons.\n",
    "    \n",
    "    @classmethod #Permet d'afficher le nombre d'entité\n",
    "    def count(cls):\n",
    "        return cls.NumberOfEntities\n",
    "    \n",
    "print(humanoid.NumberOfEntities) #affiche le nombre d'entité\n",
    "Jane = humanoid() #Invoque l'humain de base\n",
    "Neko = humanoid(\"Blair\", \"neko\", 18, 50, 150, 40) #Invoque Blair, Une Mage Neko\n",
    "Neko.parlerDeSoi() #Fait se présenter Blair\n",
    "print(humanoid.count()) #Appelle la méthode de classe affin d'afficher le nombre d'entité\n"
   ]
  },
  {
   "attachments": {},
   "cell_type": "markdown",
   "metadata": {},
   "source": [
    "## Les décorateurs\n",
    "\n",
    "les décorateurs sont des fonctions qui permettent de modifier le comportement de la fonction qu'ils décorent.\n",
    "En terme plus simple, ils permettent d'ajouter des fonctionnalités à la fonction qu'il précèdent sans avoir à la modifier.\n",
    "\n",
    "Bien qu'il en existe de nombreux les trois plus courrant (en OOP) sont :\n",
    "\n",
    "- @classmethod (permet de définir une méthode comme méthode de classe)\n",
    "- @property (aussi appelé getter)\n",
    "- @name.setter (ou name est le nom de la varriable affectée)\n",
    "\n",
    "il est également possible de créer vos propre décorateurs. Mais nous ne verrons pas ça dans ce notebook.\n",
    "Je pense que nous ne le vérrons même pas lors des cours. Je vous laisse vous doccumenter si cela vous interesse."
   ]
  },
  {
   "attachments": {},
   "cell_type": "markdown",
   "metadata": {},
   "source": [
    "## Les méthodes particulières\n",
    "\n",
    "Ils existe des méthodes qui si non overider (redéfinie) dans la classe sont présente dans tout les objet en python.\n",
    "Elle portent le nom de méthodes spéciales et sont utiles pour déterminer le comportement de nos objets dans X ou Y situation.\n",
    "Nous pouvons prendre l'example de la méthode \\_\\_dict\\_\\_ qui permet d'afficher le dictionnaire contenant les attributs et méthodes de l'objet.\n",
    "\n",
    "Par example graçe à dict nous pouvont comparer les attributs de deux objets, Vérrifier qu'il a bien été instancié avec les bons attributs, etc...\n",
    "\n",
    "D'autres méthodes de ce type existent. Mais ont des utilité plus générales. Comme \\_\\_str\\_\\_ (douvant toujours être redéfini) qui permet de définir la façon dont l'objet sera affiché lors d'un print.\n",
    "\n",
    "En voici une liste non exhaustive :\n",
    "\n",
    "- \\_\\_dict\\_\\_ : Permet d'afficher le dictionnaire contenant les attributs et méthodes de l'objet.\n",
    "- \\_\\_str\\_\\_ : Permet de définir la façon dont l'objet sera affiché sous forme de str.\n",
    "- \\_\\_repr\\_\\_ : Permet de définir la façon dont l'objet sera affiché lors d'un print.\n",
    "- \\_\\_add\\_\\_ : Permet de définir comment l'objet réagis lors d'une addition.\n",
    "- \\_\\_sub\\_\\_ : Permet de définir comment l'objet réagis lors d'une soustraction.\n",
    "\n",
    "Il en existe bien d'autres. Mais nous ne les verrons pas dans ce notebook.\n",
    "Je vous renvoie donc à la documentation officielle de python pour plus d'informations.\n",
    "Plus précisement sur cette page : https://docs.python.org/3/reference/datamodel.html#special-method-names"
   ]
  },
  {
   "attachments": {},
   "cell_type": "markdown",
   "metadata": {},
   "source": [
    "## L'encapsulation\n",
    "\n",
    "Pour faire simple l'encapsulation est le fait de cacher des attributs et méthodes à l'utilisateur.\n",
    "\n",
    "Il existe trois niveaux d'encapsulation :\n",
    "\n",
    "0. Pas d'encapsulation ou Tout est public (symbolisé par un +)\n",
    "1. Encapsulation faible ou Tout en protected (symbolisé par un #)\n",
    "2. Encapsulation forte ou Tout en private (symbolisé par un -)\n",
    "\n",
    "Pour déclarer de l'encapsulation en python il suffit de préfixer le nom de l'attribut ou de la méthode par un ou deux underscore(s) (sans underscore étant publique). \n",
    "Un signifiant Protected et deux Private. Ceci doit être déclaré dans le constructeur.\n",
    "Il existe une différence majeur entre les deux.\n",
    "\n",
    "En Protected, l'attribut ou la méthode est accessible à tout les héritiers de la classe.\n",
    "\n",
    "En Private, il n'est accessible qu'à la classe elle-même."
   ]
  },
  {
   "attachments": {},
   "cell_type": "markdown",
   "metadata": {},
   "source": [
    "### Les setters et getters\n",
    "\n",
    "Les setters et getters sont des méthodes permettant de modifier ou de récupérer la valeur d'un attribut mis en private ou en protected.\n",
    "Bien qu'en python ce ne soit pas obligatoire en protected (Far West), il est conseillé de les utiliser.\n",
    "\n",
    "Pour déclarer un getter nous utilisont la syntaxe suivante.\n",
    "\n",
    "```python\n",
    "@property\n",
    "def name(self): #Example en Private\n",
    "    return self.__name\n",
    "```\n",
    "\n",
    "Pour déclarer un setter nous utilisons la syntaxe suivante.\n",
    "\n",
    "```python\n",
    "@name.setter\n",
    "def name(self, value): #Example en Private\n",
    "    self.__name = value\n",
    "```\n",
    "\n",
    "A présent, nous pouvons utiliser l'attribut name comme si il était en public.\n",
    "Ainsi que le redéfinir. avec la syntaxe suivante :\n",
    "\n",
    "```python\n",
    "objet.name = \"Nouveau nom\" #Example d'utilisation d'un setter\n",
    "print(object.name) #Example d'utilisation d'un getter\n",
    "```\n",
    "\n",
    "Veuillez notez que pour notre examen nous seront obligé d'encapsuler en protected au minimum !"
   ]
  },
  {
   "attachments": {},
   "cell_type": "markdown",
   "metadata": {},
   "source": [
    "## L'héritage\n",
    "\n",
    "le concept d'héritage prend au minimum 2 composant, Une classe mère et une classe fille. (Et oui, en informatique nous somme féministe ! Blague à part, c'est une convention parmis d'autre classe  parrent / enfant existe également.)\n",
    "\n",
    "La classe mère est la classe qui va être hérité par la classe fille. C'est à dire que la classe fille va hériter de tout les attributs et méthodes de la classe mère."
   ]
  },
  {
   "attachments": {},
   "cell_type": "markdown",
   "metadata": {},
   "source": [
    "### Le mot magique **super**\n",
    "\n",
    "En python, Pour faire de l'héritage nous utilisons le mot magique **super**. Ce mot magique permet à la classe fille d'acceder à toutes les méthodes & attributs de la classe mère.\n",
    "Ce mot magique doit être utilisé dans le constructeur de la classe fille."
   ]
  },
  {
   "attachments": {},
   "cell_type": "markdown",
   "metadata": {},
   "source": [
    "### L'héritage simple\n",
    "\n",
    "L'héritage simple est le plus courrant. Il permet à la classe fille d'hériter de tout les attributs et méthodes de la classe mère.\n",
    "\n",
    "En python il s'écrit de la façon suivante :"
   ]
  },
  {
   "cell_type": "code",
   "execution_count": 2,
   "metadata": {},
   "outputs": [
    {
     "name": "stdout",
     "output_type": "stream",
     "text": [
      "Je suis une méthode de la classe mère Je suis un attribut de la classe mère\n",
      "Je suis une méthode de la classe fille Je suis un attribut de la classe fille\n"
     ]
    }
   ],
   "source": [
    "class Mere:\n",
    "    def __init__(self):\n",
    "        self._attribute = \"Je suis un attribut de la classe mère\"\n",
    "    \n",
    "    def Method(self):\n",
    "        print(\"Je suis une méthode de la classe mère\", self._attribute)\n",
    "\n",
    "class Fille(Mere):\n",
    "    def __init__(self):\n",
    "        super().__init__()\n",
    "        self._childAtribute = \"Je suis un attribut de la classe fille\"\n",
    "    \n",
    "    def ChildMethod(self):\n",
    "        print(\"Je suis une méthode de la classe fille\", self._childAtribute)\n",
    "        \n",
    "Azahia = Fille()\n",
    "Azahia.Method()\n",
    "Azahia.ChildMethod()"
   ]
  },
  {
   "attachments": {},
   "cell_type": "markdown",
   "metadata": {},
   "source": [
    "### L'héritage multiple\n",
    "\n",
    "L'héritage multiple est un concept qui permet à une classe fille d'hériter de plusieurs classes mères.\n",
    "Ils n'est quasiment jamais nécésaire d'utiliser l'héritage multiple. Mais il est bon de savoir qu'il existe.\n",
    "De plus son support en python est assez limité. Il est donc conseillé de ne pas l'utiliser."
   ]
  },
  {
   "attachments": {},
   "cell_type": "markdown",
   "metadata": {},
   "source": [
    "### Override VS Overload\n",
    "\n",
    "Pourquoi en anglais ? parcqu'en français c'est moche. Non plus sérieusemenet en français les 2 ont le même nom : Surcharge.\n",
    "\n",
    "Commençons par définir Override : Override dans le cadre de l'OOP signifie redéfinir une méthode de la classe mère dans la classe fille. La méthode ainsi créer aura le même nom & nombre ainsi que type des paramètres (non valable dans python) que la méthode de la classe mère.\n",
    "\n",
    "Overload : Overload dans le cadre de l'OOP signifie redéfinir une méthode en en changeant le nombre de paramètres ou le type de paramètres (non valable en python) tout en gardant le même nom ceci pourait être par example :\n",
    "\n",
    "```python\n",
    "#Dans uné classe\n",
    "def add(self, a, b):\n",
    "    return a + b\n",
    "\n",
    "def add(self, a, b, c):\n",
    "    return a + b + c\n",
    "```"
   ]
  },
  {
   "attachments": {},
   "cell_type": "markdown",
   "metadata": {},
   "source": [
    "### Les Classe Abstraites Et Interfaces\n",
    "\n",
    "Les classes abstraites sont des classes qui ne peuvent pas être instancié. Elles sont utilisé pour définir un comportement commun à plusieurs classes filles.\n",
    "Pour obternir un classe abstraite en python il suffit d'importer le module abc (Abstract Base Class) et de définir la classe comme suit :\n",
    "\n",
    "```python\n",
    "from abc import ABC, abstractmethod\n",
    "\n",
    "class AbstractClass(ABC):\n",
    "    def __init__(self, name):\n",
    "        super().__init__()\n",
    "        self.name = name\n",
    "\n",
    "    @abstractmethod #Voilà comment faire une méthode abstraite qui devras être redéfinie dans les classes filles\n",
    "    def do_something(self):\n",
    "        print(\"Some implementation!\")\n",
    "\n",
    "```\n",
    "\n",
    "Vous pouvez voir les interface comme des plan de plan (des plan de classe) elles permettent de donner des comportement aux classe qui héritent d'elle."
   ]
  },
  {
   "attachments": {},
   "cell_type": "markdown",
   "metadata": {},
   "source": [
    "## Un mot sur L'UML\n",
    "\n",
    "Alors ici nous allont légèrement parler UML (OUI, je sais...) UML peut nous aider. En effet il existe de nombreux diagrame utilise en OOP \n",
    "\n",
    "Le plus utilie étant le diagrame de classe : Ce diagramme à pour objectif de visualiser une classe de façon simple et précise en écrivant tout ces attribut et methodes. (Abstraite ou Non)\n",
    "\n",
    "Le second plus utile est le UseCase : Le diagramme d'useCase montre comment le logiciel doit fonctionner et quelle sont tout les acteur externe (ou non) de celui-ci.\n"
   ]
  },
  {
   "attachments": {},
   "cell_type": "markdown",
   "metadata": {},
   "source": [
    "## Pourquoi l'OOP en Python ?\n",
    "\n",
    "Je vous entend déja me dire Pourquoi utiliser python pour de l'OOP?\n",
    "\n",
    "Et bien Python étant un language simple. Il y est plus facile d'apprendre l'utilisation des classes & Objet ainsi que leur implémentation pratique.\n",
    "\n",
    "AI,\n",
    "Jeux (Pygame 😭)\n",
    "ect ...\n",
    "\n",
    "Cependant python à un énorme désaventage. Son OOP c'est le Far West en effet python est un language sans typage ce qui le rend plus simple certe mais également plus prone à l'erreur ! ce qui est quand on suit des plan pas fantastique en effet si je m'attend à avoir du bois mais qu'au final j'ai de la terre pour la construction de mon plan le resultat ne seras pas celui attendu !"
   ]
  },
  {
   "attachments": {},
   "cell_type": "markdown",
   "metadata": {},
   "source": [
    "## Conclusion\n",
    "\n",
    "Pour conclure je vais faire encore plus court que au mois de janvier ! Les même conseilles valent toujours aka, j'ai pas la science infuse, lisez la doc, LMGTFY, ...\n",
    "\n",
    "Grand merci à tous ceux m'ayant aidé à la rédaction et à la correction de ce document.  \n",
    "Ainsi qu'a vous tous pour votre lecture.   \n",
    "Je vous souhaite de bonnes révisions ! et surtout 頑張って ください :)"
   ]
  }
 ],
 "metadata": {
  "kernelspec": {
   "display_name": "Python 3",
   "language": "python",
   "name": "python3"
  },
  "language_info": {
   "codemirror_mode": {
    "name": "ipython",
    "version": 3
   },
   "file_extension": ".py",
   "mimetype": "text/x-python",
   "name": "python",
   "nbconvert_exporter": "python",
   "pygments_lexer": "ipython3",
   "version": "3.11.2"
  },
  "orig_nbformat": 4
 },
 "nbformat": 4,
 "nbformat_minor": 2
}
