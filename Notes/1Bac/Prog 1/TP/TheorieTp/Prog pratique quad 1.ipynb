{
 "cells": [
  {
   "attachments": {},
   "cell_type": "markdown",
   "metadata": {},
   "source": [
    "# Prog De Base QUAD1\n",
    "\n",
    "## Table des matières : \n",
    "\n",
    "1. [Introduction](#Introduction)\n",
    "2. [Les principes de bases](#Les-principes-de-bases) :\n",
    "   1. [Les variables & Leur types](#Les-variables)\n",
    "   2. [Les opérateurs](#Les-opérateurs)\n",
    "   3. [La structure conditionelle](#La-structure-conditionelle)\n",
    "   4. [La structure des données](#La-structure-des-données) :\n",
    "   5. [Les boucles](#Les-boucles)\n",
    "   6. [Les modules](#Les-modules)\n",
    "3. [Les fonctions](#Les-fonctions)\n",
    "4. [La récursivité](#La-récursivité)\n",
    "5. [Les différents tris](#Les-différents-tris)\n",
    "   1. [La complexité](#La-complexité)\n",
    "   2. [La complexité des différents tris](#La-complexité-des-différents-tris)\n",
    "6. [Les fichiers](#Les-fichiers)\n",
    "   1. [Les syntaxes pour ouvrir un fichier](#Les-syntaxes-pour-ouvrir-un-fichier)\n",
    "   2. [La gestion d'erreur](#La-gestion-d'erreur)\n",
    "   3. [Les modes de flux](#Les-modes-de-flux)\n",
    "   4. [Quelques méthodes d'écriture & de lecture](#Quelques-méthodes-d'écriture-&-de-lecture)\n",
    "   5. [L'emplacement ou le FilePath](#L'emplacement-ou-le-FilePath)"
   ]
  },
  {
   "attachments": {},
   "cell_type": "markdown",
   "metadata": {},
   "source": [
    "## Introduction\n",
    "\n",
    "Dans ce notebook nous passerons en revue les principes de bases de la programmation en Python.\n",
    "Ceux étant nécéssaire pour ce premier QUAD. Cependant l'auteur étant humain des petites erreurs peuvent s'y glisser. Si vous en trouvez merci de me le signaler. Il est également possible que ce résume ne soit pas complet. Si vous avez des remarques ou des suggestions n'hésitez pas à me les faire parvenir.\n",
    "Et par concéquant il ne remplaceras jamais l'étude du cours. voyer ça comme une aide ou une recontextualisation visuelle de celui-ci.\n",
    "\n",
    "Un notebook junypiter étant une sorte de note de cours intéractif il vous est possible de modifier le code et de l'exécuter. Pour cela il vous suffit de cliquer sur la cellule de code et de cliquer sur le bouton \"Exécuter\" dans la barre d'outils ou de taper \"Shift+Entrée\" sur votre clavier.\n",
    "\n",
    "Ce préambule étant clos, passons à la programmation."
   ]
  },
  {
   "attachments": {},
   "cell_type": "markdown",
   "metadata": {},
   "source": [
    "## Les principes de bases \n",
    "\n",
    "Dans cette sections nous aborderons les principes de bases de la programmation en Python. Nous verrons les variables, les opérateurs, les structures de données, les structures conditionelles et les boucles.\n",
    "\n",
    "Ce notebook part du postulas que vous êtes familier avec certaines commandes de bases telle que \"print()\" ou \"input()\"."
   ]
  },
  {
   "attachments": {},
   "cell_type": "markdown",
   "metadata": {},
   "source": [
    "### Les variables\n",
    "\n",
    "En programation une variable est un espace mémoire qui peut contenir une valeur. En Python une variable est déclarée en écrivant son nom suivi d'un signe égal et de la valeur qu'elle doit contenir. Par exemple :"
   ]
  },
  {
   "cell_type": "code",
   "execution_count": 1,
   "metadata": {},
   "outputs": [
    {
     "name": "stdout",
     "output_type": "stream",
     "text": [
      "Follow the white rabbit\n"
     ]
    }
   ],
   "source": [
    "alice = \"Follow the white rabbit\"\n",
    "\n",
    "print(alice)"
   ]
  },
  {
   "attachments": {},
   "cell_type": "markdown",
   "metadata": {},
   "source": [
    "Il est possible de déclarer plusieurs variables en une seule ligne en les séparant par une virgule. Par exemple :"
   ]
  },
  {
   "cell_type": "code",
   "execution_count": 2,
   "metadata": {},
   "outputs": [
    {
     "name": "stdout",
     "output_type": "stream",
     "text": [
      "15\n"
     ]
    }
   ],
   "source": [
    "a,b,c,d,e = 1,2,3,4,5\n",
    "total = a+b+c+d+e\n",
    "\n",
    "print(total)\n"
   ]
  },
  {
   "attachments": {},
   "cell_type": "markdown",
   "metadata": {},
   "source": [
    "Ils est cependant impossibles de déclarer plusieurs variables avec le même nom Par exemple :"
   ]
  },
  {
   "cell_type": "code",
   "execution_count": 3,
   "metadata": {},
   "outputs": [
    {
     "name": "stdout",
     "output_type": "stream",
     "text": [
      "TU RACONTE TA VIE\n"
     ]
    }
   ],
   "source": [
    "love = \"I love you!\"\n",
    "love = \"TU RACONTE TA VIE\"\n",
    "\n",
    "print(love)"
   ]
  },
  {
   "attachments": {},
   "cell_type": "markdown",
   "metadata": {},
   "source": [
    "Les variables peuvent avoir plusieurs types. Les types les plus courants sont les suivants :\n",
    "\n",
    "-   Les entiers (int) : Les entiers sont des nombres entiers positifs ou négatifs. Par exemple : 1, 2, 3, -1, -2, -3\n",
    "-   Les flottants (float) : Les flottants sont des nombres à virgule. Par exemple : 1.5, 0.1, 3.11, -1.9, -2.5, -3.1548789\n",
    "-   Les chaînes de caractères (str) : Les chaînes de caractères sont des suites de caractères. Par exemple : \"Bonjour\", \"Je suis une licorne 🦄\" ou bien \"hi hi hi\"\n",
    "-   Les booléens (bool) : Les booléens sont des variables qui peuvent prendre deux valeurs : True ou False.\n",
    "\n",
    "Ils en existe d'autres qui seront expliquées dans la partie sur [La structure des données](#La-structure-des-données).\n",
    "\n",
    "Tous ces types peuvent êtré vérifié par la commande \"type()\".  \n",
    "La commande __name__ peut également s'ajouter à la fin de la fonction \"type()\" pour afficher le nom du type sans donner la définition de l'objet.\n",
    "Ils est également possible de convertir certaines de ces variables en d'autres.\n",
    "Python suporte également l'écriture sous forme scientifique\n",
    "\n",
    "\n",
    "\n",
    "Démonstration :"
   ]
  },
  {
   "cell_type": "code",
   "execution_count": 4,
   "metadata": {},
   "outputs": [
    {
     "name": "stdout",
     "output_type": "stream",
     "text": [
      "<class 'int'> <class 'float'> <class 'str'> <class 'bool'> <class 'float'>\n",
      "int float str bool\n",
      "0\n",
      "1000000000000000.0\n"
     ]
    }
   ],
   "source": [
    "a = 1 #Déclaration d'une variable de type int\n",
    "b = 0.42 #Déclaration d'une variable de type float\n",
    "c = \"Hello World\" #Déclaration d'une variable de type string\n",
    "alive = True #Déclaration d'une variable de type bool (sensible à la casse)\n",
    "reallybig = 1e15 #déclaration d'une variable d'un grand nombre\n",
    "\n",
    "\n",
    "print(type(a), type(b), type(c), type(alive), type(reallybig))\n",
    "print(type(a).__name__, type(b).__name__, type(c).__name__, type(alive).__name__)\n",
    "print(int(b)) #convertion d'un float en int arrondi à l'entier inférieur\n",
    "print(reallybig)"
   ]
  },
  {
   "attachments": {},
   "cell_type": "markdown",
   "metadata": {},
   "source": [
    "Veuillez-notez que spécifiquement dans le cas des strings, Des valeur particulière par example \" ou ' qui sont en français des caractère utilisé pour les citations, ou les apostrophes.  \n",
    "En python ces caractères sont utilisé pour délimiter les strings.  \n",
    "Alors comment faire ?  \n",
    "  \n",
    "Et bien il suffit d'utiliser l'escape character \\ qui permet de dire à python que le caractère suivant est un caractère spécial et non pas un caractère de fin de string.\n",
    "Généralement en programation on utilise le caractère \\ appelé antislash, slash-antinomique ou bien backslash.\n",
    "\n",
    "Son utilité ne ce limite pas qu'as l'impression de caractère spéciaux réserver à la syntaxe. Il est également utilisé pour toutes sortes d'action comme par exemple :\n",
    "\n",
    "-   Le retour à la ligne avec le \\n\n",
    "-   l'écriture en couleur avec les monstruausité du type : \\033[1;31m (notez que ceci peut être symplifié avec des modules ...) \n",
    "    (Ce format de couleur est nommé ANSI escape code et est utilisé par le terminal linux et les consoles windows)\n",
    "    ect ... (voir l'image ci-dessous) \n",
    "\n",
    "![EscapeCommand.png](https://cdn.discordapp.com/attachments/1035663164165062726/1058083539297521755/image.png \"Table des commandes d'échappement\")\n",
    "\n",
    "Notez que l'escape character est potentielement à savoir utiliser.  \n",
    "Les coulleurs sont plus pour votre culture !!!"
   ]
  },
  {
   "cell_type": "code",
   "execution_count": 5,
   "metadata": {},
   "outputs": [
    {
     "name": "stdout",
     "output_type": "stream",
     "text": [
      "Il fait beau aujourd'hui\n",
      "\\\n",
      "ligne 1\n",
      "ligne 2\n",
      "ligne 3\n",
      "\u001B[31mJe suis Rouge \u001B[32mje suis Vert \u001B[34mje suis Bleu\n",
      "On a oublié de me reset \u001B[0mCe qui est fait\n"
     ]
    }
   ],
   "source": [
    "print('Il fait beau aujourd\\'hui') #si vous retirez le \\ le code sera mis en erreur\n",
    "print(\"\\\\\") #affiche un \\\n",
    "print(\"ligne 1\\nligne 2\\nligne 3\") #\\n permet de faire un retour à la ligne\n",
    "print(\"\\u001b[31mJe suis Rouge\", \"\\u001b[32mje suis Vert\", \"\\u001b[34mje suis Bleu\") #COULEUR\n",
    "print(\"On a oublié de me reset\", \"\\u001b[0mCe qui est fait\") #COULEUR BIS"
   ]
  },
  {
   "attachments": {},
   "cell_type": "markdown",
   "metadata": {},
   "source": [
    "Il est possible de déclarer une variable sans lui donner de valeur. Dans ce cas elle prendra la valeur \"None\" qui est un type spécial qui signifie \"rien\" ou \"inconnu\". Par exemple :"
   ]
  },
  {
   "cell_type": "code",
   "execution_count": 6,
   "metadata": {},
   "outputs": [
    {
     "name": "stdout",
     "output_type": "stream",
     "text": [
      "None\n"
     ]
    }
   ],
   "source": [
    "a = None #Sensitif à la casse\n",
    "print(a)\n",
    "\n"
   ]
  },
  {
   "attachments": {},
   "cell_type": "markdown",
   "metadata": {},
   "source": [
    "Pour conclure il est possible d'éffectuer des opérations sur les variables durant leur affectation (Attention priorité des opération). \n",
    "Par exemple :"
   ]
  },
  {
   "cell_type": "code",
   "execution_count": 7,
   "metadata": {},
   "outputs": [
    {
     "name": "stdout",
     "output_type": "stream",
     "text": [
      "I love you! I'll kill everyone else!I love you! I'll kill everyone else!I love you! I'll kill everyone else!I love you! I'll kill everyone else!I love you! I'll kill everyone else! Senpai\n",
      "42\n"
     ]
    }
   ],
   "source": [
    "yandere = (\"I love you! I'll kill everyone else!\" * 5) + \" Senpai\"\n",
    "lavie = 1+2+3+4+5+6+7+8+9-(1+1*2)\n",
    "\n",
    "print(yandere)\n",
    "print(lavie)"
   ]
  },
  {
   "attachments": {},
   "cell_type": "markdown",
   "metadata": {},
   "source": [
    "### Les opérateurs\n",
    "\n",
    "Les opérateurs sont des symboles qui permettent d'effectuer des opérations sur les variables. Les opérateurs les plus courants sont les suivants :\n",
    "\n",
    "-   L'addition : \"+\"\n",
    "-   La soustraction : \"-\"\n",
    "-   La multiplication : \"*\"\n",
    "-   La division : \"/\"\n",
    "-   La division entière : \"//\"\n",
    "-   La puissance : \"**\"\n",
    "-   Le modulo : \"%\"\n",
    "\n",
    "Nous les appélerons Opérateurs arithmétiques.\n",
    "Notez qu'il est possible d'en appliquer certains lors de l'affection de la varible pour par example de l'augmenter d'un autre variable\n",
    "\n",
    "Ceux-ci hors multiplication et additions (et soustraction) ne sont applicables que aux variables de type \"int\" ou \"float\". Par exemple :"
   ]
  },
  {
   "cell_type": "code",
   "execution_count": 8,
   "metadata": {},
   "outputs": [
    {
     "name": "stdout",
     "output_type": "stream",
     "text": [
      "10 12 0 20 5.0 2 1000 1 69\n"
     ]
    }
   ],
   "source": [
    "a = 10\n",
    "b = a+2\n",
    "c = a-10\n",
    "d = a*2\n",
    "e = a/2\n",
    "f = a//4 #La division entière arrondie à l'entier inférieur\n",
    "g = a**3\n",
    "h = a%3 #Le reste de la division euclidienne\n",
    "i = 1\n",
    "i += 68 #Ajout de ce nombre à la valeur de \"i\" :)\n",
    "\n",
    "print(a,b,c,d,e,f,g,h,i)"
   ]
  },
  {
   "attachments": {},
   "cell_type": "markdown",
   "metadata": {},
   "source": [
    "Ils existent cependant d'autres opérateurs que l'on appele opérateurs logiques. Ceux-ci sont les suivants :\n",
    "\n",
    "-   L'opérateur \"et\" : s'écrivant \"and\" ou simplement \"&\"\n",
    "-   L'opérateur \"ou\" : s'écrivant \"or\" ou simplement \"|\"\n",
    "-   L'opérateur \"non\" : s'écrivant \"not\"\n",
    "\n",
    "Ces oppérateur on les mêmes application que dans la logique booléen par exemple :"
   ]
  },
  {
   "cell_type": "code",
   "execution_count": 9,
   "metadata": {},
   "outputs": [
    {
     "name": "stdout",
     "output_type": "stream",
     "text": [
      "True\n"
     ]
    }
   ],
   "source": [
    "print((1+2+3+4+5+6+7+8+9-(1+1*2) and 42) == 42)"
   ]
  },
  {
   "attachments": {},
   "cell_type": "markdown",
   "metadata": {},
   "source": [
    "Les opérateurs de comparaison sont les suivants :\n",
    "\n",
    "-   L'opérateur \"égal\" : s'écrivant \"==\"\n",
    "-   L'opérateur plus grand que : s'écrivant \">\" (son opposé est \"<\")\n",
    "\n",
    "Il existe de nombreuse variante de ces oppérateur notament des combinaisons de ceux ci. Plus grand ou égal s'écrivant \">=\" et pas égal s'écrivant \"!=\".\n",
    "Ils existent pour eux spécifiquement peu de cas d'utilisation hors de [La structure conditionelle](#La-structure-conditionelle).\n",
    "\n",
    "Ils existent d'autres opérateur tels \"in\" et \"is\" qui sont plus spécifique et seront vu en action en tout cas pour \"in\" dans [Les boucles](#Les-boucles)."
   ]
  },
  {
   "attachments": {},
   "cell_type": "markdown",
   "metadata": {},
   "source": [
    "### Note sur le QUAD2\n",
    "\n",
    "La note suivante m'as été rapportée par un de mes relecteur que je remercie conciderez celle-ci comme une note bonus que vous pouvez sauter si vous le souhaitez.\n",
    "\n",
    "La seule différence entre \"==\" et \"is\" est que   \n",
    "\"==\" vérifie si les deux variables ont la même valeur (égalité de valeur)\n",
    "\"is\" vérifie si les deux variables sont le même objet (égalité de mémoire)\n",
    "\n",
    "Cette note vous seras utile pour les structure immutable et le notion d'objet qui seront abordée au QUAD2.\n",
    "Attention que la négation de is est \"is not\" et non pas comme les autre oppérateur \"not is\".  \n",
    "C'est afin que cette exprésion soit plus proche de la langue anglaise."
   ]
  },
  {
   "cell_type": "code",
   "execution_count": 10,
   "metadata": {},
   "outputs": [
    {
     "name": "stdout",
     "output_type": "stream",
     "text": [
      "True\n",
      "False\n",
      "\n",
      "True\n",
      "False\n",
      "\n",
      "True\n",
      "True\n"
     ]
    }
   ],
   "source": [
    "a = [1, 2, 3]\n",
    "b = [1, 2, 3]\n",
    "c = b\n",
    "\n",
    "print(a == b)\n",
    "print(a is b)\n",
    "\n",
    "print()\n",
    "\n",
    "print(a == c)\n",
    "print(a is c)\n",
    "\n",
    "print()\n",
    "\n",
    "print(b == c)\n",
    "print(b is c)"
   ]
  },
  {
   "attachments": {},
   "cell_type": "markdown",
   "metadata": {},
   "source": [
    "### La structure conditionelle\n",
    "\n",
    "La structure conditionelle est la base de la programmation. Elle permet de faire des choix en fonction de certaines conditions. En Python la structure conditionelle utilise les mots clés suivant\n",
    "\n",
    "-   \"if\" : permet de définir une condition\n",
    "-   \"elif\" : permet de définir une condition supplémentaire\n",
    "-   \"else\" : permet de définir une condition par défaut\n",
    "\n",
    "il est possible de les mettre en cascade afin de gerer des cas complexe. Par exemple :"
   ]
  },
  {
   "cell_type": "code",
   "execution_count": 11,
   "metadata": {},
   "outputs": [
    {
     "name": "stdout",
     "output_type": "stream",
     "text": [
      "Ton existence est comme celle du chat de Schrödinger 😺, purement hypothétique\n"
     ]
    }
   ],
   "source": [
    "you = input(\"Quelle est ton nom? \")\n",
    "\n",
    "if ((you != \"\") and (you != \" \")):\n",
    "    print(\"tu as un nom 👏\")\n",
    "    if len(you) < 3: #si le symbole est inversé et que la condition est vérifié le elif ne seras pas vérifié !\n",
    "        print(\"C'est un très court en tout cas 🤔\")\n",
    "    elif len(you) >= 100:\n",
    "        print(\"Quelle long nom 👀 avoue tu as tapé n'importe quoi 😂\")\n",
    "else:\n",
    "    print(\"Ton existence est comme celle du chat de Schrödinger 😺, purement hypothétique\")"
   ]
  },
  {
   "attachments": {},
   "cell_type": "markdown",
   "metadata": {},
   "source": [
    "### La structure des données\n",
    "\n",
    "La structure des données est un ensemble de type de données qui permettent de stocker des informations. Les structures de données les plus courantes sont les suivants :\n",
    "\n",
    "-   Les listes : Les listes sont des collection de données ordonée ittérables qui peuvent être modifée. Où chaque élément est accésible graçe à son indice (commençant à 0).\n",
    "    Les listes sont déclarable de façon dynamique ou avec le mot clé \"list()\" nous ne rentreront pas dans les détails de la déclaration \"statique\" veuillez vous réferer à la documentation officielle.\n",
    "\n",
    "-   Les tuples : Les tuples sont des listes qui ne sont pas modifiables (immutables). (les tuples sont plus éfficace en mémoire et rapidités que les listes)\n",
    "    Les tuples sont déclarable de façon dynamique ou avec le mot clé \"tuple()\" nous ne rentreront pas dans les détails de la déclaration \"statique\" veuillez vous réferer à la documentation officielle.\n",
    "\n",
    "-   Les dictionnaires : Les dictionnaires sont des listes qui sont indexé par des clés (les clés et leurs données associées peuvent être de n'importe quel type).\n",
    "    Les dictionnaires sont déclarable de façon dynamique ou avec le mot clé \"dict()\" nous ne rentreront pas dans les détails de la déclaration \"statique\" veuillez vous réferer à la documentation officielle.\n",
    "\n",
    "Pour ceux ayant déja fait du dévloppement web, les dictionnaire ont un syntaxe similaire à celle du JSON. autant dans la déclaration que la sélection des données.\n",
    "Ils est d'ailleurs possible de convertir un dictionnaire en JSON et inversement. (voir [Les modules](#Les-modules))"
   ]
  },
  {
   "cell_type": "code",
   "execution_count": 12,
   "metadata": {},
   "outputs": [
    {
     "name": "stdout",
     "output_type": "stream",
     "text": [
      "[1, 0.11, ('a', 12, 42)]\n",
      "['Yo', 1, 0.11, 'Hello']\n",
      "('Yo', 1, 0.11, [1, 2, 3])\n",
      "dlroW olleH\n"
     ]
    }
   ],
   "source": [
    "list1 = [\"Yo\", 1 , 0.11, (\"a\" , 12, 42)] #ici un tuple est compris dans une liste\n",
    "print(list1[1:]) #affiche la liste à partir de l'index 1\n",
    "\n",
    "#On peut la modifier\n",
    "list1[3] = \"Hello\"\n",
    "print(list1)\n",
    "\n",
    "tuple1 = (\"Yo\", 1 , 0.11, [1, 2, 3]) #ici une liste est comprise dans un tuple\n",
    "print(tuple1)\n",
    "\n",
    "#On ne peut pas la modifier, pour le vérifier, enlevez le # devant les 2 lignes suivante\n",
    "#tupple1[3] = \"Hello\"\n",
    "#print(tuple1)\n",
    "\n",
    "print(\"Hello World\"[::-1]) #Le code secret pour parler à l'envers ! Les strings sont des listes de caractères :)"
   ]
  },
  {
   "attachments": {},
   "cell_type": "markdown",
   "metadata": {},
   "source": [
    "Notez que [ ] sont des paramètres optionnels qui permet d'afficher seulement certaines partie de la liste ou afficher la liste d'une façon particuliére.\n",
    "\n",
    "nomenclature des paramètres :\n",
    "\n",
    "[start:stop] iras de l'index de départ jusqu'à l'index de fin (non inclus)\n",
    "[start:] iras de l'index de départ jusqu'à la fin de la liste\n",
    "[:stop] iras du début de la liste jusqu'à l'index de fin (non inclus)\n",
    "[:] iras du début de la liste jusqu'à la fin de la liste\n",
    "\n",
    "[::step] iras du début de la liste jusqu'à la fin de la liste en sautant de step en step notez que le step peut être négatif !\n",
    "\n",
    "l'écriture complète est donc [start:stop:step]\n",
    "\n",
    "Quelques exemples :\n",
    "\n",
    "-   [1:3] iras de l'index 1 jusqu'à l'index 3 (non inclus)\n",
    "-   [1:] iras de l'index 1 jusqu'à la fin de la liste\n",
    "-   [::-1] inversera la liste\n",
    "-   [::2] iras de l'index 0 jusqu'à la fin de la liste en sautant de 2 en 2\n",
    "-   [1:4:2] iras de l'index 1 jusqu'à l'index 4 (non inclus) en sautant de 2 en 2 son dernier seras donc l'index 3 vu que (3+2=5) > 4 :)\n",
    "    Ils en existe un quasi infinité, Je vous laisse les découvrir par vous même."
   ]
  },
  {
   "attachments": {},
   "cell_type": "markdown",
   "metadata": {},
   "source": [
    "Ils existent également de nombreusent methode pour les listes par exemple :\n",
    "\n",
    "-   \"yourlist.append()\" : permet d'ajouter un élément à la fin de la liste\n",
    "-   \"yourlist.insert()\" : permet d'ajouter un élément à une position précise de la liste\n",
    "-   \"yourlist.extend()\" : permet d'ajouter un ensemble d'élément à la fin de la liste\n",
    "-   \"yourlist.remove()\" : permet de supprimer un élément de la liste\n",
    "-   \"yourlist.pop()\" : permet de supprimer un élément de la liste en précisant son indice\n",
    "-   \"yourlist.index()\" : permet de récupérer l'indice d'un élément de la liste\n",
    "-   \"yourlist.count()\" : permet de compter le nombre d'élément dans la liste\n",
    "-   \"yourlist.sort()\" : permet de trier la liste\n",
    "-   \"yourlist.reverse()\" : permet de renverser la liste\n",
    "-   \"yourlist.copy()\" : permet de copier la liste\n",
    "\n",
    "Certaines de ces méthodes sont également disponible pour les tuples et les dictionnaires.\n",
    "les listes, tupples et dictionnaire ont également des longeur (nombre d'élément) trouvable avec la fonction \"len()\" ceci est très utiles dans le cas [Des Boucles](#Les-boucles).\n",
    "Pour les élement non expliquées ici je vous conseilles de vous référez au cours ou bien à la documentation officielle."
   ]
  },
  {
   "cell_type": "code",
   "execution_count": 13,
   "metadata": {},
   "outputs": [
    {
     "name": "stdout",
     "output_type": "stream",
     "text": [
      "['Hello', 'World', 'I', 'love', 'you']\n",
      "['Hello', 'World', 'love'] 2\n"
     ]
    }
   ],
   "source": [
    "list1 = []\n",
    "list1.append(\"Hello\")\n",
    "list1.insert(1, \"World\")\n",
    "list1.extend([\"I\", \"love\", \"you\"])\n",
    "print(list1)\n",
    "list1.remove(\"I\")\n",
    "list1.pop(-1) #supprime le dernier élément de la liste\n",
    "print(list1, list1.index(\"love\"))"
   ]
  },
  {
   "cell_type": "code",
   "execution_count": 14,
   "metadata": {},
   "outputs": [
    {
     "name": "stdout",
     "output_type": "stream",
     "text": [
      "{'watchId': 0, 'viewingDate': '27/12/2022 12:46:03', 'title': \"KonoSuba: God's Blessing on this Wonderful World! Legend of Crimson\", 'genres': ('anime', 'isekai', 'comedy', 'fantasy', 'magic', 'adventure'), 'type': 'movie', 'year': 2019}\n",
      "KonoSuba: God's Blessing on this Wonderful World! Legend of Crimson\n",
      "anime isekai\n"
     ]
    }
   ],
   "source": [
    "#Exemples des dictionnaires avec des données JSON tirés de l'API de Trakt.tv triée et ordonnée par votre humble serviteur :)\n",
    "mostRecentViewed = {\n",
    "    \"watchId\" : 0,\n",
    "    \"viewingDate\" : \"27/12/2022 12:46:03\",\n",
    "    \"title\" : \"KonoSuba: God's Blessing on this Wonderful World! Legend of Crimson\",\n",
    "    \"genres\" : (\"anime\", \"isekai\", \"comedy\", \"fantasy\", \"magic\", \"adventure\"),\n",
    "    \"type\" : \"movie\",\n",
    "    \"year\" : 2019\n",
    "    } #Fun fact c'est en effet le truc le plus récent que j'ai regardé as of 28-12-22\n",
    "\n",
    "print(mostRecentViewed)\n",
    "print(mostRecentViewed[\"title\"]) #Des dictionnaires plus complexes peuvent contenir d'autre dictionnaire alors pour connaitre leurs valeurs, on doit faire comme ceci : print(nomdudictionnaire[\"valeur 'mère'\"][\"valeur 'enfant'\"])\n",
    "print(mostRecentViewed[\"genres\"][0] + \" \" + mostRecentViewed[\"genres\"][1]) #On peut aussi accéder à un élément d'une liste dans un dictionnaire"
   ]
  },
  {
   "attachments": {},
   "cell_type": "markdown",
   "metadata": {},
   "source": [
    "### Les listes\n",
    "\n",
    "On peut créer une liste en nommant une variable normalement puis en mettant un crochet a la place d'une parenthèse, par exempl : numbers = [0, 2, 32]\n",
    "\n",
    "La place qu'occupe le numéro 0 ici est la place 0, place qu'on appellera index le numéro 32 serra assignez a l'index 2\n",
    "\n",
    "On dispose aussi de la commande len() qui nous permet de connaitre la longeur de la liste\n",
    "\n",
    "On peut supprimer un élément d'une liste avec l'instruction del, ex : del numbers [mettre l'index correspondant ici]\n",
    "\n",
    "numbers.append(value) est une commande qui nous permet d'ajouter une valeur a la fin de la liste\n",
    "\n",
    "numbers.insert(location, value) permettra elle d'ajouter une valeur n'importe ou dans la liste\n",
    "\n",
    "\n",
    "\n",
    "### Les boucles\n",
    "\n",
    "Il existe deux type de boucle en Python :\n",
    "\n",
    "- Les boucles while : Les boucles while sont des boucles qui s'executent tant qu'une condition est vérifié.\n",
    "- Les boucles for : Les boucles for sont des boucles qui s'executent un nombre de fois défini.\n",
    "\n",
    "Attention il est très important de savoir quand utilisée chaque type de boucle. En effet les boucles while sont très puissante mais peuvent être très dangereuse si mal utilisé. En effet si la condition n'est jamais fausse la boucle s'executera à l'infini et le programme ne pourra pas s'arreter. Il est donc important de savoir quand utiliser les boucles while et de les utiliser avec précaution.\n",
    "\n",
    "Les boucles for sont plus simple à utiliser mais sont moins puissante que les boucles while. En effet elles ne peuvent pas être utilisé pour des conditions complexes. Elles sont néanmoins très utiles pour parcourir des listes, tupples et dictionnaires.\n",
    "\n",
    "Si vous savez exactement combien de fois le boucles dois s'executer une For est nécéssaire (certains de nos proffeseur obligeant de justifier l'utilation de chaque boucle). Si vous ne savez pas combien de fois le boucles dois s'executer une boucle while est nécéssaire.\n",
    "\n",
    "par concéquent pour parcourir une liste, un tupples ou un dictionnaire il est préférable d'utiliser une boucle for."
   ]
  },
  {
   "cell_type": "code",
   "execution_count": 15,
   "metadata": {},
   "outputs": [
    {
     "name": "stdout",
     "output_type": "stream",
     "text": [
      "0\n",
      "1\n",
      "2\n",
      "3\n",
      "4\n",
      "5\n",
      "6\n",
      "7\n",
      "8\n",
      "9\n",
      "Boucle for :\n",
      "0\n",
      "1\n",
      "2\n",
      "3\n",
      "4\n",
      "5\n",
      "6\n",
      "7\n",
      "8\n",
      "9\n"
     ]
    }
   ],
   "source": [
    "x = 0\n",
    "\n",
    "while x < 10:\n",
    "    print(x)\n",
    "    x += 1\n",
    "\n",
    "#Ceci est une mauvaise utilisation de la boucle while !\n",
    "#En for : \n",
    "\n",
    "x = 0\n",
    "print(\"Boucle for :\")\n",
    "\n",
    "for x in range(10):\n",
    "    print(x)"
   ]
  },
  {
   "attachments": {},
   "cell_type": "markdown",
   "metadata": {},
   "source": [
    "### Les modules\n",
    "\n",
    "Les modules en python sont des librairies (ou bout de code déjà fait) qui permettent d'ajouter des fonctionnalitées à votre programme. Au lieu de réinventer la roue à chaque fois, il est préférable d'utiliser des modules déjà existant. Si ils suffisent à vos besoins vous pouvez également lire le code et réimplémenter les fonctionnalitées que vous souhaitez dans votre propre code.\n",
    "\n",
    "La méthode la plus simple étant d'importer les modules nécésaires\n",
    "Bien qu'ils soit importable n'importe quand ils est préférable si vous les utilisez dans le programme en entier de les importer en haut du fichier.\n",
    "\n",
    "Afin de télécharger des modules qui ne sont pas inclus dans la distribution de base de python il existe un gestionnaire de paquets nommé \"pip\" qui permet d'installer des modules depuis le terminal.\n",
    "sous la forme suivante :\n",
    "\n",
    "    pip install nom_du_module\n",
    "\n",
    "Les modules sont peuvent également venir packagé dans des exectuables (exe, app, dmg, etc...) il est donc possible de les installer manuellement.\n",
    "C'est le cas de la distribution Anaconda qui créeras un environnement python avec de nombreux modules préinstallé (tels que numpy, matplotlib, pandas, etc...)\n",
    "Si vous installez les modules via \"Pip\" dans un environnement virtuel il ne seras disponible que dans celui-ci si vous l'installer dans l'environement principale il sera disponible dans tous les environements virtuels.\n",
    "\n",
    "Certains IDE telles que PyCharm crée automatiquement un environement virtuel pour chaque projet."
   ]
  },
  {
   "cell_type": "code",
   "execution_count": 16,
   "metadata": {},
   "outputs": [
    {
     "name": "stdout",
     "output_type": "stream",
     "text": [
      "3.141592653589793\n"
     ]
    },
    {
     "data": {
      "text/html": [
       "<div>\n",
       "<style scoped>\n",
       "    .dataframe tbody tr th:only-of-type {\n",
       "        vertical-align: middle;\n",
       "    }\n",
       "\n",
       "    .dataframe tbody tr th {\n",
       "        vertical-align: top;\n",
       "    }\n",
       "\n",
       "    .dataframe thead th {\n",
       "        text-align: right;\n",
       "    }\n",
       "</style>\n",
       "<table border=\"1\" class=\"dataframe\">\n",
       "  <thead>\n",
       "    <tr style=\"text-align: right;\">\n",
       "      <th></th>\n",
       "    </tr>\n",
       "  </thead>\n",
       "  <tbody>\n",
       "  </tbody>\n",
       "</table>\n",
       "</div>"
      ],
      "text/plain": [
       "Empty DataFrame\n",
       "Columns: []\n",
       "Index: []"
      ]
     },
     "execution_count": 16,
     "metadata": {},
     "output_type": "execute_result"
    }
   ],
   "source": [
    "import pandas #librairie pour le traitement de données\n",
    "import math #librairie pour les fonctions mathématiques\n",
    "\n",
    "print(math.pi) #Module pi valeur de la variable pi.\n",
    "pandas.DataFrame() #Création d'un tableau via la fonction data frames de la librairie pandas."
   ]
  },
  {
   "attachments": {},
   "cell_type": "markdown",
   "metadata": {},
   "source": [
    "## Les fonctions\n",
    "\n",
    "Les fonctions sont des morceaux de code qui peuvent être appelé à plusieurs endroits dans votre programme. Elles permettent de réduire la redondance de code et de rendre votre code plus lisible.\n",
    "\n",
    "Attention question piège procédure VS fonctions, Une fonction prend des entrée et retourne une réponse, une procédure fait ce quelle à a faire sans retourner de réponse. une fonction est donc une procédure qui retourne une réponse.\n",
    "Les fonctions peuvent en appeler d'autre et peuvent être appelé par d'autre fonction ou le code en général.\n",
    "\n",
    "Attention que les variables déclarée dans le code ne peuvent pas être accédée dans une fonction et inversement si un information doit être donnée à la fonction elle doit alors être passé en paramètre.\n",
    "sauf si la variable est déclaré en global dans la fonction. au quelcas la même valeur seras utilisé dans le code et dans la fonction.\n",
    "\n",
    "Les fonctions peuvent être déclaré dans le code ou bien importé depuis un module.\n",
    "Pour déclarer une fonction il faut utiliser le mot clé \"def\" suivi du nom de la fonction et des paramètres entre parenthèse. Les paramètres sont des variables qui seront utilisé dans la fonction. Les paramètres sont optionnels et peuvent être déclaré avec une valeur par défaut. Les paramètres sont séparé par une virgule."
   ]
  },
  {
   "cell_type": "code",
   "execution_count": 17,
   "metadata": {},
   "outputs": [
    {
     "name": "stdout",
     "output_type": "stream",
     "text": [
      "54\n",
      "328256967394537077627\n"
     ]
    }
   ],
   "source": [
    "def ma_fonction(parametre1, parametre2, parametre3 = 3): #démonstration d'une fonction avec des paramètres par défaut il est également possible d'avoir des paramètres obligatoires ou facultatifs\n",
    "        solved = parametre1 * parametre2 ** parametre3\n",
    "        return solved #Le mot clé return permet de renvoyer une valeur à l'appel de la fonction\n",
    "\n",
    "print(ma_fonction(2, 3))\n",
    "alpha = ma_fonction(3, 3, 42)\n",
    "print(alpha)"
   ]
  },
  {
   "attachments": {},
   "cell_type": "markdown",
   "metadata": {},
   "source": [
    "## La récursivité\n",
    "\n",
    "Pour faire extrémement simple la récursivité est une fonction qui s'appelent elle même afin de résoudre des problème plus complexe l'example le plus connu est le calcul de la suite de fibbonachi\n",
    "\n",
    "Attention la récursion n'est pas le mal mais il est préférable de l'éviter quand c'est possible en effet elle est très lourde en ram et temps de calcul car pour une réponse donnée il faut calculer la réponse précédente et ainsi de suite. sauf que j'ai précédent fait la même chose ce qui peut être très intensif en puissance de calcul.\n",
    "\n",
    "Et GRAND ATTENTION la récursion est très dangereuse car si elle n'est pas bien utilisé elle peut créer une boucle infinie et faire planter votre programme voir en cas extrême votre ordinateur. (ceci ne devrait pas arriver en python mais il est préférable de le préciser) il est par exemple possible de définir un depth max ou une fois atteinte la fonction stop attention que un depth max doit toujours être une variable global !\n"
   ]
  },
  {
   "cell_type": "code",
   "execution_count": 18,
   "metadata": {},
   "outputs": [
    {
     "name": "stdout",
     "output_type": "stream",
     "text": [
      "55\n"
     ]
    }
   ],
   "source": [
    "def fibonacci(n):\n",
    "    if n <= 1:\n",
    "        return n\n",
    "    else:\n",
    "        return(fibonacci(n-1) + fibonacci(n-2))\n",
    "\n",
    "print(fibonacci(10))"
   ]
  },
  {
   "attachments": {},
   "cell_type": "markdown",
   "metadata": {},
   "source": [
    "## Les différent tris\n",
    "\n",
    "Quand on possède une liste d'objet, il est possible et souvent nécéssaire de la trier pour se faire il existe plusieur algorithmes de tris. ils en existe un quasi infinité mais les plus connus sont les suivants :\n",
    "\n",
    "- Le tri à bulle\n",
    "- Le tri par insertion\n",
    "- Le tri fusion\n",
    "\n",
    "Ces trois tri sont dit stables : ils conservent l'ordre des éléments égaux. C'est à dire que si deux éléments sont égaux ils resteront dans le même ordre dans la liste triée.\n",
    "Ce n'est pas le cas de tous les tris. Notament le : \n",
    "\n",
    "- Tri rapide"
   ]
  },
  {
   "cell_type": "code",
   "execution_count": 19,
   "metadata": {},
   "outputs": [],
   "source": [
    "#définition des listes utilisables par toutes les fonctions de tris nombres entre 0 et 10000\n",
    "\n",
    "element10 = [3656, 5938, 972, 698, 9755, 2653, 9914, 1228, 7581, 9695]\n",
    "#element25 = [4826, 238, 1118, 7121, 9801, 937, 1020, 488, 114, 762, 8439, 6835, 6191, 1479, 3650, 6829, 3827, 4408, 5547, 3506, 9157, 4944, 7928, 3680, 1006]\n",
    "#element50 = [7712, 6806, 4558, 3897, 9730, 5436, 7417, 5549, 8172, 5878, 3365, 2572, 1877, 2889, 2175, 5040, 6368, 2372, 4606, 5639, 5254, 3019, 2113, 72, 2162, 4970, 9538, 1565, 8601, 5966, 1242, 4726, 7561, 4787, 6499, 4434, 8032, 9248, 2970, 7996, 7344, 9360, 285, 8448, 6513, 396, 5363, 8534, 9595, 7720]\n",
    "#element100 = [4936, 6425, 3792, 472, 139, 6568, 1145, 487, 4128, 6851, 62, 3858, 3921, 4653, 2162, 2082, 6295, 6317, 8311, 1297, 9353, 6097, 6470, 2294, 1697, 6279, 4630, 9446, 8019, 9422, 2347, 6332, 4233, 9009, 1862, 9220, 5976, 4765, 7999, 9650, 3948, 8586, 2547, 3885, 2571, 213, 935, 456, 5408, 4656, 820, 9226, 2917, 6682, 7539, 2623, 2109, 8422, 8015, 614, 9840, 4574, 6236, 3391, 5790, 5070, 2657, 7675, 2172, 6741, 2165, 4526, 3810, 5706, 8345, 9574, 629, 8171, 123, 9425, 8871, 2843, 8485, 1163, 8129, 5719, 9046, 955, 1700, 3508, 8953, 9524, 7606, 1061, 4903, 859, 1804, 1319, 4328, 7045]\n",
    "#element1000 = [3100, 3300, 4741, 7801, 899, 3531, 1815, 2098, 8891, 8271, 6888, 8564, 9634, 2315, 8883, 4575, 7065, 4471, 6700, 3711, 1769, 7648, 7769, 2634, 6950, 994, 7593, 3240, 5196, 7793, 1401, 8380, 1830, 1192, 5902, 1665, 9295, 9434, 4172, 2124, 9993, 575, 6065, 5873, 123, 9942, 999, 2475, 6604, 9523, 8945, 1532, 2264, 407, 3877, 5047, 4329, 8663, 2806, 3583, 1511, 8920, 7397, 9776, 4486, 4834, 9420, 4623, 2558, 8893, 2800, 458, 5527, 5971, 8521, 1890, 6241, 5770, 1233, 7775, 6089, 3139, 4044, 1650, 2779, 6052, 9182, 7198, 8513, 3116, 3729, 6655, 7212, 6802, 3800, 468, 6339, 7880, 6465, 562, 2662, 7096, 1794, 4973, 6679, 577, 3560, 3063, 8291, 2740, 796, 4237, 7167, 6123, 5267, 6363, 8632, 4105, 6650, 4587, 6209, 2930, 5828, 478, 3816, 4526, 2881, 4436, 6277, 6448, 9373, 7135, 8436, 3693, 6705, 3640, 1505, 2895, 5732, 4396, 2395, 4473, 1910, 8397, 8989, 5645, 7953, 6648, 4862, 2405, 8880, 6264, 4747, 8483, 6215, 7561, 9602, 7068, 6715, 3334, 4770, 393, 513, 7916, 7936, 5088, 7397, 6266, 7608, 7491, 1833, 956, 4695, 2966, 9511, 6291, 6175, 2494, 9779, 9285, 2378, 3298, 1821, 9385, 329, 7110, 6938, 6294, 3859, 8339, 3460, 9709, 2900, 8691, 7383, 4816, 1825, 6372, 8697, 2256, 2570, 7446, 7181, 8013, 3807, 2792, 8617, 9921, 7613, 3093, 501, 8174, 4674, 4981, 8526, 529, 1776, 1180, 1510, 7645, 4455, 1733, 5007, 2087, 9666, 3354, 5254, 4946, 8135, 160, 9579, 9231, 3266, 6102, 7611, 6572, 2143, 9688, 4966, 2140, 711, 2131, 130, 9040, 7885, 4186, 1069, 328, 3512, 271, 4078, 203, 7177, 997, 8654, 1207, 5679, 1347, 4931, 6143, 7604, 2419, 2287, 7753, 2746, 4331, 6492, 7600, 3948, 2822, 3383, 7111, 9959, 9641, 3040, 6585, 2605, 9152, 7896, 4958, 7617, 1755, 6540, 8265, 9155, 7103, 5805, 1872, 6629, 5912, 1913, 2756, 8658, 5849, 2743, 8973, 6302, 3692, 7968, 2801, 6026, 1602, 6420, 7293, 2679, 4068, 6959, 4396, 4866, 6125, 5315, 7593, 175, 7226, 4051, 42, 6623, 9986, 6140, 2277, 605, 4913, 4393, 1479, 2577, 6144, 5077, 2805, 9921, 2018, 9194, 6168, 8513, 6856, 1052, 4109, 8242, 5954, 2231, 8232, 50, 7362, 1550, 4505, 4048, 2184, 5331, 7490, 619, 1573, 6284, 7833, 448, 3539, 1256, 6958, 3175, 5709, 6276, 7550, 9190, 7842, 6004, 9555, 4627, 5358, 2802, 3523, 1772, 4394, 5928, 1588, 8552, 4911, 8247, 6415, 3618, 78, 3818, 2018, 2431, 6894, 7158, 3699, 3960, 3203, 8468, 8827, 9327, 5308, 8742, 4489, 5396, 6583, 8420, 4867, 368, 6455, 3777, 2791, 5099, 1643, 6605, 3396, 4677, 6474, 3340, 39, 9912, 4600, 1691, 4106, 3816, 3026, 1593, 7814, 318, 808, 648, 6551, 1860, 2866, 6722, 2328, 4404, 1077, 6735, 3513, 4381, 811, 9976, 7975, 2930, 1895, 8266, 8336, 6779, 6125, 6718, 8330, 5740, 7907, 9955, 2185, 3589, 6679, 3269, 9953, 1976, 2460, 4674, 5806, 3608, 9298, 6666, 6107, 2768, 3983, 1906, 2337, 1020, 5800, 7342, 8458, 7519, 728, 8721, 399, 2250, 5617, 3823, 9221, 314, 9133, 8439, 1292, 9093, 4840, 6269, 6968, 7950, 1895, 2988, 9279, 337, 4108, 4722, 8802, 6622, 4238, 2739, 6448, 9928, 3228, 259, 803, 6017, 6144, 1787, 6185, 1439, 4004, 3832, 6597, 324, 7290, 896, 4514, 6981, 7898, 8695, 9385, 5838, 7101, 5660, 2265, 1259, 4664, 1963, 6053, 424, 5950, 4523, 671, 5555, 538, 5066, 9899, 1075, 2762, 4731, 7091, 4509, 7533, 3647, 1762, 7416, 9715, 2561, 2041, 1726, 4551, 4325, 8379, 8720, 842, 3566, 2568, 9330, 6316, 981, 8221, 1018, 5031, 1197, 5325, 3084, 4947, 6413, 2549, 7951, 6815, 6289, 8809, 6977, 9233, 6881, 6356, 9295, 5387, 7573, 1254, 4201, 6082, 1739, 7803, 3487, 3552, 5541, 415, 3240, 49, 8371, 4805, 3134, 3475, 7344, 471, 1668, 9755, 7401, 7211, 5966, 8208, 8761, 4681, 2422, 2999, 8593, 2755, 3860, 4161, 1119, 7980, 3264, 7517, 4546, 2132, 5098, 3213, 85, 4805, 1816, 255, 2463, 1899, 5174, 1570, 4825, 4298, 2162, 6798, 6905, 7943, 8531, 6066, 8172, 7258, 9949, 6989, 6416, 1304, 9672, 9545, 6556, 5488, 1587, 9919, 1798, 3641, 7375, 7852, 6146, 9950, 3158, 2626, 4756, 2380, 7390, 2215, 8473, 745, 206, 6277, 4535, 3771, 5882, 8347, 3226, 1296, 4811, 1943, 5809, 9117, 7969, 4970, 8696, 3176, 4631, 9972, 4267, 5734, 8020, 9625, 9488, 1988, 5065, 4855, 1265, 8359, 5214, 1857, 4806, 885, 6687, 8361, 6978, 5468, 9392, 565, 865, 9087, 2304, 6393, 1586, 3423, 243, 7541, 9677, 5645, 1595, 859, 5218, 9303, 7902, 8281, 4701, 5314, 1294, 7967, 792, 2117, 4522, 4672, 9595, 3949, 2799, 7034, 8465, 3843, 2251, 4522, 5189, 9029, 4491, 6484, 9780, 7467, 3779, 2914, 3536, 2962, 596, 6444, 8893, 850, 4654, 4063, 9105, 1779, 3629, 3536, 2726, 610, 6179, 5499, 2270, 8569, 3434, 8307, 7801, 9372, 9690, 1810, 2549, 8288, 4501, 6382, 8082, 9342, 4368, 2600, 5592, 5876, 6121, 6377, 6114, 7350, 5542, 9382, 666, 8884, 5675, 7240, 2897, 3615, 8792, 9773, 3166, 8156, 6391, 6022, 6780, 7410, 2450, 9532, 9156, 16, 8363, 4199, 2480, 1123, 4546, 5964, 1740, 6177, 28, 5388, 2110, 7002, 1442, 6474, 1451, 8782, 5763, 3998, 7506, 3104, 5391, 4421, 4548, 414, 4205, 6307, 8720, 7569, 4346, 7457, 9964, 768, 5751, 8293, 946, 2701, 2569, 1400, 654, 5092, 4474, 9947, 897, 4505, 1953, 3622, 6161, 2492, 717, 6645, 685, 8689, 5919, 5356, 5677, 1176, 5244, 9099, 6667, 8867, 4393, 2984, 7584, 6990, 8355, 7763, 2713, 7699, 9092, 4666, 6138, 9108, 3771, 8085, 6636, 4404, 5, 484, 4106, 9662, 2663, 3361, 3770, 844, 7112, 3907, 826, 9608, 8851, 3737, 6574, 325, 8540, 4194, 609, 3520, 1018, 5516, 9295, 6428, 2302, 9212, 6600, 2619, 9119, 5119, 4048, 2801, 4396, 6038, 5543, 6548, 6234, 1700, 2556, 7538, 2226, 7914, 6568, 887, 4757, 1124, 924, 8797, 2415, 4818, 3077, 1021, 120, 510, 5484, 4567, 5810, 3301, 7240, 9290, 7665, 4251, 5421, 7770, 8493, 7493, 6443, 7419, 6686, 4683, 8596, 6643, 5800, 8964, 6242, 7868, 3417, 930, 8999, 343, 5419, 3361, 4500, 6626, 9488, 2048, 7107, 6832, 1051, 3441, 8650, 4940, 4679, 9225, 3616, 47, 2927, 8757, 9918, 8692, 5145, 4301, 1594, 6847, 556, 9069, 6684, 4795, 88, 3218, 3633, 6040, 5883, 66, 5651, 4262, 4782, 3077, 7099, 6319, 3783, 6543, 3673, 7487, 6861, 5793, 2125, 2776, 9119, 2796, 2864, 5997, 6919, 6665, 8600, 3680]"
   ]
  },
  {
   "cell_type": "code",
   "execution_count": 20,
   "metadata": {},
   "outputs": [
    {
     "name": "stdout",
     "output_type": "stream",
     "text": [
      "[698, 972, 1228, 2653, 3656, 5938, 7581, 9695, 9755, 9914]\n"
     ]
    }
   ],
   "source": [
    "#Bubble Sort\n",
    "\n",
    "bSort10 = element10.copy()\n",
    "#bSort25 = element25.copy()\n",
    "#bSort50 = element50.copy()\n",
    "#bSort100 = element100.copy()\n",
    "#bSort1000 = element1000.copy()\n",
    "\n",
    "def bubbleSort(liste):\n",
    "    for i in range(len(liste)):\n",
    "        for j in range(len(liste)-1):\n",
    "            if liste[j] > liste[j+1]:\n",
    "                liste[j], liste[j+1] = liste[j+1], liste[j]\n",
    "    return liste\n",
    "\n",
    "\n",
    "print(bubbleSort(bSort10)) #BenchmarkTime = 0.2s\n",
    "\n",
    "#Voici ici plusieurs tests préremplis (Pour les activer, enlevez les # au début de ceux-ci et de leur variable ainsi que des listes mères)\n",
    "\n",
    "#For 25 elements\n",
    "#print(bubbleSort(bSort25)) #BenchmarkTime = 0.3s\n",
    "#For 50 elements\n",
    "#print(bubbleSort(bSort50)) #BenchmarkTime =  0.9s\n",
    "#For 100 elements\n",
    "#print(bubbleSort(bSort100)) #BenchmarkTime = 0.8s\n",
    "#For 1000 elements\n",
    "#print(bubbleSort(bSort1000)) #BenchmarkTime = 0.9s\n"
   ]
  },
  {
   "cell_type": "code",
   "execution_count": 21,
   "metadata": {},
   "outputs": [
    {
     "name": "stdout",
     "output_type": "stream",
     "text": [
      "[698, 972, 1228, 2653, 3656, 5938, 7581, 9695, 9755, 9914]\n"
     ]
    }
   ],
   "source": [
    "#Insertion Sort\n",
    "\n",
    "insSort10 = element10.copy()\n",
    "#insSort25 = element25.copy()\n",
    "#insSort50 = element50.copy()\n",
    "#insSort100 = element100.copy()\n",
    "#insSort1000 = element1000.copy()\n",
    "\n",
    "def insertionSort(liste):\n",
    "    for i in range(1, len(liste)):\n",
    "        key = liste[i]\n",
    "        j = i-1\n",
    "        while j >= 0 and key < liste[j]:\n",
    "            liste[j+1] = liste[j]\n",
    "            j -= 1\n",
    "        liste[j+1] = key\n",
    "    return liste\n",
    "\n",
    "print(insertionSort(insSort10)) #BenchmarkTime = 0.2s\n",
    "\n",
    "#Voici ici plusieurs tests préremplis (Pour les activer, enlevez les # au début de ceux-ci et de leur variable ainsi que des listes mères)\n",
    "\n",
    "#For 25 elements\n",
    "#print(insertionSort(insSort25)) #BenchmarkTime = 0.2s\n",
    "#For 50 elements\n",
    "#print(insertionSort(insSort50)) #BenchmarkTime = 0.3s\n",
    "#For 100 elements\n",
    "#print(insertionSort(insSort100)) #BenchmarkTime = 0.2s\n",
    "#For 1000 elements\n",
    "#print(insertionSort(insSort1000)) #BenchmarkTime = 0.6s\n"
   ]
  },
  {
   "cell_type": "code",
   "execution_count": 22,
   "metadata": {},
   "outputs": [
    {
     "name": "stdout",
     "output_type": "stream",
     "text": [
      "[698, 972, 1228, 2653, 3656, 5938, 7581, 9695, 9755, 9914]\n"
     ]
    }
   ],
   "source": [
    "#Merge Sort\n",
    "\n",
    "mergeSort10 = element10.copy()\n",
    "#mergeSort25 = element25.copy()\n",
    "#mergeSort50 = element50.copy()\n",
    "#mergeSort100 = element100.copy()\n",
    "#mergeSort1000 = element1000.copy()\n",
    "\n",
    "def mergeSort(liste):\n",
    "    if len(liste) > 1:\n",
    "        mid = len(liste)//2\n",
    "        left = liste[:mid]\n",
    "        right = liste[mid:]\n",
    "        mergeSort(left)\n",
    "        mergeSort(right)\n",
    "        i = j = k = 0\n",
    "        while i < len(left) and j < len(right):\n",
    "            if left[i] < right[j]:\n",
    "                liste[k] = left[i]\n",
    "                i += 1\n",
    "            else:\n",
    "                liste[k] = right[j]\n",
    "                j += 1\n",
    "            k += 1\n",
    "        while i < len(left):\n",
    "            liste[k] = left[i]\n",
    "            i += 1\n",
    "            k += 1\n",
    "        while j < len(right):\n",
    "            liste[k] = right[j]\n",
    "            j += 1\n",
    "            k += 1\n",
    "    return liste\n",
    "\n",
    "print(mergeSort(mergeSort10)) #BenchmarkTime = 0.2s\n",
    "\n",
    "#Voici ici plusieurs tests préremplis (Pour les activer, enlevez les # au début de ceux-ci et de leur variable ainsi que des listes mères)\n",
    "\n",
    "#For 25 elements\n",
    "#print(mergeSort(mergeSort25)) #BenchmarkTime = 0.2s\n",
    "#For 50 elements\n",
    "#print(mergeSort(mergeSort50)) #BenchmarkTime = 0.3s\n",
    "#For 100 elements\n",
    "#print(mergeSort(mergeSort100)) #BenchmarkTime = 0.3s\n",
    "#For 1000 elements\n",
    "#print(mergeSort(mergeSort1000)) #BenchmarkTime = 0.4s"
   ]
  },
  {
   "cell_type": "code",
   "execution_count": 23,
   "metadata": {},
   "outputs": [
    {
     "name": "stdout",
     "output_type": "stream",
     "text": [
      "[698, 972, 1228, 2653, 3656, 5938, 7581, 9695, 9755, 9914]\n"
     ]
    }
   ],
   "source": [
    "#Quick Sort\n",
    "\n",
    "qSort10 = element10.copy()\n",
    "#qSort25 = element25.copy()\n",
    "#qSort50 = element50.copy()\n",
    "#qSort100 = element100.copy()\n",
    "#qSort1000 = element1000.copy()\n",
    "\n",
    "def quickSort(liste):\n",
    "    less = []\n",
    "    equal = []\n",
    "    greater = []\n",
    "    if len(liste) > 1:\n",
    "        pivot = liste[0]\n",
    "        for x in liste:\n",
    "            if x < pivot:\n",
    "                less.append(x)\n",
    "            if x == pivot:\n",
    "                equal.append(x)\n",
    "            if x > pivot:\n",
    "                greater.append(x)\n",
    "        return quickSort(less)+equal+quickSort(greater)\n",
    "    else:\n",
    "        return liste\n",
    "\n",
    "#For 10 elements\n",
    "print(quickSort(qSort10)) #BenchmarkTime = 0.3s\n",
    "\n",
    "#Voici ici plusieurs tests préremplis (Pour les activer, enlevez les # au début de ceux-ci et de leur variable ainsi que des listes mères)\n",
    "\n",
    "#For 25 elements\n",
    "#print(quickSort(qSort25)) #BenchmarkTime = 0.4s\n",
    "#For 50 elements\n",
    "#print(quickSort(qSort50)) #BenchmarkTime = 0.6s\n",
    "#For 100 elements \n",
    "#print(quickSort(qSort100)) #BenchmarkTime = 0.4s\n",
    "#For 1000 elements\n",
    "#print(quickSort(qSort1000)) #BenchmarkTime = 0.6s"
   ]
  },
  {
   "attachments": {},
   "cell_type": "markdown",
   "metadata": {},
   "source": [
    "### La complexité\n",
    "\n",
    "En informatique, la complexité d'un algorithme est une mesure de la quantité de ressources (temps, mémoire, etc.) nécessaire pour exécuter l'algorithme. Elle est généralement exprimée en fonction de la taille de l'entrée de l'algorithme. La complexité d'un algorithme est une propriété importante de l'algorithme, car elle permet de comparer les performances de différents algorithmes pour résoudre le même problème.\n",
    "\n",
    "Ce modèle est appelé \"Big O Notation\" ou simplement \"Big O\" (Ou bien \"Notation Big O en français\").  \n",
    "Ce modèle possède 6 grande catégorie de compléxité spaciale et temporelle (par ordre du meilleur au pire) :\n",
    "\n",
    "- Constant : O(1)\n",
    "- Linear Time : O(n)\n",
    "- Logarithmic Time : O(log n)\n",
    "- Quadratic Time : O(n²)\n",
    "- Exponential Time : O(2^n)\n",
    "- Factorial Time : O(n!)\n",
    "\n",
    "Ce modèle mathématique peut être visualisé sous forme de graphique.  \n",
    "Ce dit graphique à pour axes des ordonée et des abscisse respectivement le temps et l'espace.  \n",
    "Ou en terme plus facile ; Le nombre d'opération et Le nombre d'élément.  \n",
    "Ou encore en terme physique ; La puissance de calcul et la mémoire.  \n",
    "\n",
    "![Complexité Big O](https://paper-attachments.dropbox.com/s_2D428973624E7FC84C7D69D11421DE762BEA6B6F3361231FCDCAE0425D14526F_1664885448372_Untitled.drawio+17.png \"Complexité Big O\")\n"
   ]
  },
  {
   "attachments": {},
   "cell_type": "markdown",
   "metadata": {},
   "source": [
    "### La complexité des différents tris\n",
    "\n",
    "Bien évidement les tris étant des algorithmes ils ont tous une complexité.\n",
    "Pour les réprésenter nous pouvons utiliser le tableau suivant :\n",
    "\n",
    "\n",
    "|Algorithme Utilisé    |Meilleur cas|Pire cas    |Cas moyen   |Mémoire (RAM)|\n",
    "|----------------------|:----------:|:----------:|:----------:|:-----------:|\n",
    "|**Tri à bulles**      |n           |n^2         |n^2         |1            |\n",
    "|**Tri par insertion** |n           |n^2         |n^2         |1            |\n",
    "|**Tri par fusion**    |n*log(n)    |n^2         |n*log(n)    |n*log(n)     |\n",
    "|**Tri rapide**        |n*log(n)    |n*log(n)    |n*log(n)    |n            |\n",
    "\n",
    "\n",
    "\n",
    "\n",
    "\n",
    "funfact : il prendrait plus d'un an sans optimisation à un i9900K (à 4.68ghz et 40% d'utilisation) de trier une liste d'un milliard d'élément avec le tri à bulle."
   ]
  },
  {
   "attachments": {},
   "cell_type": "markdown",
   "metadata": {},
   "source": [
    "## Les fichiers\n",
    "\n",
    "Les fichiers sont des objets qui permettent de stocker des données de manière permanente. Python est capable de travailler avec les fichier pour ce faire il ouvre un flux avec le fichier et effectue les opérations demandé.\n",
    "\n",
    "Tels que ce nom l'indique un flux n'est pas un objet mais un processus qui permet de lire ou d'écrire dans un fichier. Il est possible d'ouvrir un flux en lecture seule, en écriture seule ou en lecture et écriture. Il est possible de lire ou d'écrire dans un flux en utilisant les méthodes read() et write()."
   ]
  },
  {
   "attachments": {},
   "cell_type": "markdown",
   "metadata": {},
   "source": [
    "### Les syntaxes pour ouvrir un fichier\n",
    "\n",
    "Il existe deux grande syntaxe pour ouvrir un fichier :\n",
    "\n",
    "- La syntaxe avec le mot clé with qui se donne sous cette forme là :\n",
    "\n",
    "        with open(\"nom_du_fichier\", \"mode\") as nom_du_flux:\n",
    "            #code\n",
    "\n",
    "cette méthode est la plus simple et la plus utilisé car elle permet de fermer le flux automatiquement à la fin du bloc d'instruction de façon automatique et implicite. (Malheureusement ils nous est demandé de l'éviter dans le cadre de ce QUAD)\n",
    "\n",
    "- La syntaxe avec le mot clé open qui se donne sous cette forme là :\n",
    "\n",
    "        nom_du_flux = open(\"nom_du_fichier\", \"mode\")\n",
    "        #code\n",
    "        nom_du_flux.close()\n",
    "\n",
    "Attention cette méthode est plus complexe et demande de fermer le flux manuellement à la fin du bloc d'instruction de façon explicite.\n",
    "Et Attention que si votre code échoue pour quelque raison que ce soit le flux ne sera pas fermé et le fichier restera ouvert. Ce qui n'est vraiment pas une bonne chose. Un flux ne pouvant être utilisé que par un seul programme à la fois."
   ]
  },
  {
   "attachments": {},
   "cell_type": "markdown",
   "metadata": {},
   "source": [
    "### La gestion d'erreur\n",
    "\n",
    "Afin d'éviter ce destin malheureux ils nous est demandé de placer chaqu'une de nos intéraction avec un flux dans un bloc try except afin de pouvoir fermer le flux en cas d'erreur. \n",
    "Ce dit bloc possède la syntaxe suivante :\n",
    "\n",
    "    try:\n",
    "        nom_du_flux = open(\"nom_du_fichier\", \"mode\")\n",
    "        #code\n",
    "        nom_du_flux.close()\n",
    "    except:\n",
    "        #code\n",
    "        nom_du_flux.close()\n",
    "    finally:\n",
    "        nom_du_flux.close()\n",
    "\n",
    "A noter que cette syntaxe peut être utilisée dans pleins d'autre cas que celui des flux. notament pour les requêtes SQL ou HTTP.  \n",
    "Elle peut également utilisée pour éviter un crash du programme en cas d'erreur.  \n",
    "Except peut également être spécifié pour ne prendre en compte qu'une certaine erreur. (Exemple : except ValueError:)  \n",
    "Vous pouvez par concéquent gérer les erreurs de manière plus précise.  \n",
    "Le bloc Finaly est optionnel et est exécuté à la fin du bloc try que l'erreur soit survenue ou non. Il est utilisé pour fermer le flux dans le cas où l'erreur est survenue.  \n",
    "\n",
    "Il est conseillé de toujours mettre un finaly dans le cas de la gestion d'un flux.\n",
    "\n",
    "**NOTEZ : qu'un zero sera appliqué à votre examen si vous effectuez de la gestion de fichier/flux sans try/except/finaly**"
   ]
  },
  {
   "attachments": {},
   "cell_type": "markdown",
   "metadata": {},
   "source": [
    "### Les modes de flux\n",
    "\n",
    "Il existe 4 modes de flux principaux :\n",
    "\n",
    "- r : ouvre le fichier en lecture seule\n",
    "- x : crée le fichier (échoue si le fichier existe déjà)\n",
    "- w : ouvre le fichier en écriture seule (écrase le fichier s'il existe, sinon le crée)\n",
    "- a : ouvre le fichier en écriture seule (ajoute le texte à la fin du fichier s'il existe, sinon le crée)\n",
    "\n",
    "Attention de toujours bien vérifier l'éxistence d'un fichier avant de l'ouvrir !  \n",
    "Vous pouvez par example faire :\n",
    "    \n",
    "    if os.path.exists(\"nom_du_fichier\")) \n",
    "        #code\n",
    "    \n",
    "Il est possible d'ouvrir un flux en lecture et écriture en combinant les modes. (Exemple : r+) Bien que ce ne soit pas nécésaire dans le cadre de ce QUAD.  \n",
    "Il existe également un mode additionel qui est combinable au mode principeau : \"b\" qui permet d'ouvrir le fichier en mode binaire. (Exemple : rb)  \n",
    "Notez qu'en mode binaire tout doit être lu et écrit sous forme de bytes. (Exemple : b\"Hello World\" pour du texte)  \n",
    "D'autre méthode de conversion existe."
   ]
  },
  {
   "attachments": {},
   "cell_type": "markdown",
   "metadata": {},
   "source": [
    "### Quelques méthodes d'écriture & de lecture\n",
    "\n",
    "Il existe de nombreuse méthode pour lire et écrire dans un flux. Nous allons en voir quelques unes.\n",
    "\n",
    "- read() : permet de lire le contenu du fichier. Si aucun argument n'est passé en paramètre alors la méthode renvoie tout le contenu du fichier. Sinon elle renvoie le nombre de caractère passé en paramètre.\n",
    "- readline() : permet de lire une ligne du fichier. Si aucun argument n'est passé en paramètre alors la méthode renvoie la première ligne du fichier. Sinon elle renvoie la ligne correspondant au numéro passé en paramètre.\n",
    "- readlines() : permet de lire toutes les lignes du fichier. Si aucun argument n'est passé en paramètre alors la méthode renvoie une liste contenant toutes les lignes du fichier. Sinon elle renvoie une liste contenant les lignes correspondant au numéro passé en paramètre.\n",
    "- write() : permet d'écrire dans le fichier. Si aucun argument n'est passé en paramètre alors la méthode renvoie une erreur. Sinon elle renvoie le nombre de caractère écrit."
   ]
  },
  {
   "attachments": {},
   "cell_type": "markdown",
   "metadata": {},
   "source": [
    "### L'emplacement ou le FilePath\n",
    "\n",
    "Afin d'ouvrir un fichier il est nécessaire de spécifier son emplacement. Pour ce faire il existe deux méthodes :\n",
    "\n",
    "- Le chemin absolu : qui est le chemin complet depuis la racine du disque jusqu'au fichier. (Exemple : C:\\Users\\Utilisateur\\Desktop\\mon_fichier.txt) \n",
    "  Attention ils sont fortement déconseillé d'utiliser ce type d'emplacement car il est très sensible aux changement de disque dur ou de système d'exploitation, les antislashs sont également problématiques sous linux & unix.\n",
    "- Le chemin relatif : qui est le chemin depuis le dossier courant jusqu'au fichier. (Exemple : mon_fichier.txt ou bien encore ../data/mon_fichier.txt) \n",
    "  C'est la méthode récommandé car elle est beaucoup plus portables.\n",
    "  Cette methode demande de bien connaitre la structe de votre projet et comment utiliser les chemins relatifs. \n",
    "  Spécifiquement les ../ qui permettent de remonter d'un dossier.\n",
    "  "
   ]
  },
  {
   "attachments": {},
   "cell_type": "markdown",
   "metadata": {},
   "source": [
    "## Note de fin\n",
    "\n",
    "Voilà la fin des connaisances nécessaires pour ce QUAD. Il est possible que vous ayez besoin d'aller plus loin dans vos recherches.\n",
    "Tout ceci ne remplaceras jamais la pratique et la lecture de la documentation officielle. Ce que je vous conseille fortement de faire.\n",
    "\n",
    "Voici le liens de la doc :\n",
    "\n",
    "- Documentation officielle de Python : https://docs.python.org/fr/3/\n",
    "\n",
    "Et les liens de certains de vos meilleurs amis :\n",
    "\n",
    "- StackOverflow : https://stackoverflow.com/\n",
    "- Google : https://www.google.com/\n",
    "- Github : https://github.com\n",
    "- GeekForGeeks : https://www.geeksforgeeks.org/\n",
    "  ect ...\n",
    "\n",
    "\n",
    "\n",
    "Grand merci à tous ceux m'ayant aidé à la rédaction et à la correction de ce document.  \n",
    "Ainsi qu'a vous tous pour votre lecture.   \n",
    "Je vous souhaite de bonnes révisions ! et surtout 頑張って ください :)"
   ]
  }
 ],
 "metadata": {
  "kernelspec": {
   "display_name": "Python 3",
   "language": "python",
   "name": "python3"
  },
  "language_info": {
   "codemirror_mode": {
    "name": "ipython",
    "version": 3
   },
   "file_extension": ".py",
   "mimetype": "text/x-python",
   "name": "python",
   "nbconvert_exporter": "python",
   "pygments_lexer": "ipython3",
   "version": "3.11.1 (tags/v3.11.1:a7a450f, Dec  6 2022, 19:58:39) [MSC v.1934 64 bit (AMD64)]"
  },
  "orig_nbformat": 4,
  "vscode": {
   "interpreter": {
    "hash": "2f9d6cf1e3d8195079a65c851de355134a77367bcd714b1a5d498c42d3c07114"
   }
  }
 },
 "nbformat": 4,
 "nbformat_minor": 2
}
